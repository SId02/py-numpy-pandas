{
 "cells": [
  {
   "cell_type": "code",
   "execution_count": 4,
   "metadata": {},
   "outputs": [],
   "source": [
    "import numpy as np\n",
    "import pandas as pd\n",
    "import matplotlib.pyplot as plt\n",
    "import seaborn as sns\n"
   ]
  },
  {
   "cell_type": "code",
   "execution_count": 5,
   "metadata": {},
   "outputs": [],
   "source": [
    "df=pd.read_csv('./songs.csv')"
   ]
  },
  {
   "cell_type": "code",
   "execution_count": 6,
   "metadata": {},
   "outputs": [
    {
     "data": {
      "text/html": [
       "<div>\n",
       "<style scoped>\n",
       "    .dataframe tbody tr th:only-of-type {\n",
       "        vertical-align: middle;\n",
       "    }\n",
       "\n",
       "    .dataframe tbody tr th {\n",
       "        vertical-align: top;\n",
       "    }\n",
       "\n",
       "    .dataframe thead th {\n",
       "        text-align: right;\n",
       "    }\n",
       "</style>\n",
       "<table border=\"1\" class=\"dataframe\">\n",
       "  <thead>\n",
       "    <tr style=\"text-align: right;\">\n",
       "      <th></th>\n",
       "      <th>name</th>\n",
       "      <th>singer</th>\n",
       "      <th>singer_id</th>\n",
       "      <th>duration</th>\n",
       "      <th>link</th>\n",
       "      <th>language</th>\n",
       "    </tr>\n",
       "  </thead>\n",
       "  <tbody>\n",
       "    <tr>\n",
       "      <th>0</th>\n",
       "      <td>Dil - E - Nadan Tujhe</td>\n",
       "      <td>Chitra Singh|Jagjit Singh</td>\n",
       "      <td>/artist/chitra-singh|/artist/jagjeet-singh-1</td>\n",
       "      <td>05:00</td>\n",
       "      <td>/dil-e-nadan-tujhe-3</td>\n",
       "      <td>Urdu</td>\n",
       "    </tr>\n",
       "    <tr>\n",
       "      <th>1</th>\n",
       "      <td>Agar Hum Kahen Aur Woh Muskara De</td>\n",
       "      <td>Chitra Singh|Jagjit Singh</td>\n",
       "      <td>/artist/chitra-singh|/artist/jagjeet-singh-1</td>\n",
       "      <td>06:26</td>\n",
       "      <td>/agar-hum-kahen-aur-woh-muskura-den</td>\n",
       "      <td>Urdu</td>\n",
       "    </tr>\n",
       "    <tr>\n",
       "      <th>2</th>\n",
       "      <td>Unke Dekhe Se</td>\n",
       "      <td>Jagjit Singh</td>\n",
       "      <td>/artist/jagjeet-singh-1</td>\n",
       "      <td>03:41</td>\n",
       "      <td>/unke-dekhe-se</td>\n",
       "      <td>Urdu</td>\n",
       "    </tr>\n",
       "    <tr>\n",
       "      <th>3</th>\n",
       "      <td>Yeh Na Thi Hamari Qismat - Chitra Singh</td>\n",
       "      <td>Chitra Singh</td>\n",
       "      <td>/artist/chitra-singh</td>\n",
       "      <td>04:26</td>\n",
       "      <td>/yeh-na-thi-hamari-qismat-2</td>\n",
       "      <td>Urdu</td>\n",
       "    </tr>\n",
       "    <tr>\n",
       "      <th>4</th>\n",
       "      <td>Hazaron Khwahishen Aisi</td>\n",
       "      <td>Jagjit Singh</td>\n",
       "      <td>/artist/jagjeet-singh-1</td>\n",
       "      <td>05:39</td>\n",
       "      <td>/hazaron-khwahishen-aisi-1</td>\n",
       "      <td>Urdu</td>\n",
       "    </tr>\n",
       "  </tbody>\n",
       "</table>\n",
       "</div>"
      ],
      "text/plain": [
       "                                      name                     singer  \\\n",
       "0                    Dil - E - Nadan Tujhe  Chitra Singh|Jagjit Singh   \n",
       "1        Agar Hum Kahen Aur Woh Muskara De  Chitra Singh|Jagjit Singh   \n",
       "2                            Unke Dekhe Se               Jagjit Singh   \n",
       "3  Yeh Na Thi Hamari Qismat - Chitra Singh               Chitra Singh   \n",
       "4                  Hazaron Khwahishen Aisi               Jagjit Singh   \n",
       "\n",
       "                                      singer_id duration  \\\n",
       "0  /artist/chitra-singh|/artist/jagjeet-singh-1    05:00   \n",
       "1  /artist/chitra-singh|/artist/jagjeet-singh-1    06:26   \n",
       "2                       /artist/jagjeet-singh-1    03:41   \n",
       "3                          /artist/chitra-singh    04:26   \n",
       "4                       /artist/jagjeet-singh-1    05:39   \n",
       "\n",
       "                                  link language  \n",
       "0                 /dil-e-nadan-tujhe-3     Urdu  \n",
       "1  /agar-hum-kahen-aur-woh-muskura-den     Urdu  \n",
       "2                       /unke-dekhe-se     Urdu  \n",
       "3          /yeh-na-thi-hamari-qismat-2     Urdu  \n",
       "4           /hazaron-khwahishen-aisi-1     Urdu  "
      ]
     },
     "execution_count": 6,
     "metadata": {},
     "output_type": "execute_result"
    }
   ],
   "source": [
    "df.head()"
   ]
  },
  {
   "cell_type": "code",
   "execution_count": 7,
   "metadata": {},
   "outputs": [
    {
     "data": {
      "text/html": [
       "<div>\n",
       "<style scoped>\n",
       "    .dataframe tbody tr th:only-of-type {\n",
       "        vertical-align: middle;\n",
       "    }\n",
       "\n",
       "    .dataframe tbody tr th {\n",
       "        vertical-align: top;\n",
       "    }\n",
       "\n",
       "    .dataframe thead th {\n",
       "        text-align: right;\n",
       "    }\n",
       "</style>\n",
       "<table border=\"1\" class=\"dataframe\">\n",
       "  <thead>\n",
       "    <tr style=\"text-align: right;\">\n",
       "      <th></th>\n",
       "      <th>name</th>\n",
       "      <th>singer</th>\n",
       "      <th>singer_id</th>\n",
       "      <th>duration</th>\n",
       "      <th>link</th>\n",
       "      <th>language</th>\n",
       "    </tr>\n",
       "  </thead>\n",
       "  <tbody>\n",
       "    <tr>\n",
       "      <th>41350</th>\n",
       "      <td>Chaaridike Paaper Andhar (Manush Janam Diye Bi...</td>\n",
       "      <td>Kishore Kumar</td>\n",
       "      <td>/artist/kishore-kumar</td>\n",
       "      <td>03:23</td>\n",
       "      <td>/chaaridike-paaper-andhar-manush-janam-diye-bidhi</td>\n",
       "      <td>Bengali</td>\n",
       "    </tr>\n",
       "    <tr>\n",
       "      <th>41351</th>\n",
       "      <td>Ei Ki Go Shesh Daan</td>\n",
       "      <td>Feroza Begum</td>\n",
       "      <td>/artist/feroza-begum</td>\n",
       "      <td>03:56</td>\n",
       "      <td>/ei-kigo-sesh-daan</td>\n",
       "      <td>Bengali</td>\n",
       "    </tr>\n",
       "    <tr>\n",
       "      <th>41352</th>\n",
       "      <td>Ei Je Bangla</td>\n",
       "      <td>Sandhya Mukherjee|Hemant Kumar</td>\n",
       "      <td>/artist/sandhya-mukherjee|/artist/hemanta-mukh...</td>\n",
       "      <td>07:36</td>\n",
       "      <td>/ei-je-bangla</td>\n",
       "      <td>Bengali</td>\n",
       "    </tr>\n",
       "    <tr>\n",
       "      <th>41353</th>\n",
       "      <td>Jatone Hridaye Rekho</td>\n",
       "      <td>Ajoy Chakrabarty</td>\n",
       "      <td>/artist/ajoy-chakrabarty</td>\n",
       "      <td>04:29</td>\n",
       "      <td>/jatone-hridaye-rekho</td>\n",
       "      <td>Bengali</td>\n",
       "    </tr>\n",
       "    <tr>\n",
       "      <th>41354</th>\n",
       "      <td>Tomar Je Oi Haater Mala</td>\n",
       "      <td>Asha Bhosle</td>\n",
       "      <td>/artist/asha-bhosle-1</td>\n",
       "      <td>03:22</td>\n",
       "      <td>/tomar-je-oi-haater-mala</td>\n",
       "      <td>Bengali</td>\n",
       "    </tr>\n",
       "  </tbody>\n",
       "</table>\n",
       "</div>"
      ],
      "text/plain": [
       "                                                    name  \\\n",
       "41350  Chaaridike Paaper Andhar (Manush Janam Diye Bi...   \n",
       "41351                                Ei Ki Go Shesh Daan   \n",
       "41352                                       Ei Je Bangla   \n",
       "41353                               Jatone Hridaye Rekho   \n",
       "41354                            Tomar Je Oi Haater Mala   \n",
       "\n",
       "                               singer  \\\n",
       "41350                   Kishore Kumar   \n",
       "41351                    Feroza Begum   \n",
       "41352  Sandhya Mukherjee|Hemant Kumar   \n",
       "41353                Ajoy Chakrabarty   \n",
       "41354                     Asha Bhosle   \n",
       "\n",
       "                                               singer_id duration  \\\n",
       "41350                              /artist/kishore-kumar    03:23   \n",
       "41351                               /artist/feroza-begum    03:56   \n",
       "41352  /artist/sandhya-mukherjee|/artist/hemanta-mukh...    07:36   \n",
       "41353                           /artist/ajoy-chakrabarty    04:29   \n",
       "41354                              /artist/asha-bhosle-1    03:22   \n",
       "\n",
       "                                                    link language  \n",
       "41350  /chaaridike-paaper-andhar-manush-janam-diye-bidhi  Bengali  \n",
       "41351                                 /ei-kigo-sesh-daan  Bengali  \n",
       "41352                                      /ei-je-bangla  Bengali  \n",
       "41353                              /jatone-hridaye-rekho  Bengali  \n",
       "41354                           /tomar-je-oi-haater-mala  Bengali  "
      ]
     },
     "execution_count": 7,
     "metadata": {},
     "output_type": "execute_result"
    }
   ],
   "source": [
    "df.tail()"
   ]
  },
  {
   "cell_type": "code",
   "execution_count": 8,
   "metadata": {},
   "outputs": [
    {
     "data": {
      "text/plain": [
       "(41355, 6)"
      ]
     },
     "execution_count": 8,
     "metadata": {},
     "output_type": "execute_result"
    }
   ],
   "source": [
    "df.shape"
   ]
  },
  {
   "cell_type": "code",
   "execution_count": 9,
   "metadata": {},
   "outputs": [
    {
     "data": {
      "text/plain": [
       "Index(['name', 'singer', 'singer_id', 'duration', 'link', 'language'], dtype='object')"
      ]
     },
     "execution_count": 9,
     "metadata": {},
     "output_type": "execute_result"
    }
   ],
   "source": [
    "df.columns"
   ]
  },
  {
   "cell_type": "code",
   "execution_count": 10,
   "metadata": {},
   "outputs": [
    {
     "name": "stdout",
     "output_type": "stream",
     "text": [
      "<class 'pandas.core.frame.DataFrame'>\n",
      "RangeIndex: 41355 entries, 0 to 41354\n",
      "Data columns (total 6 columns):\n",
      " #   Column     Non-Null Count  Dtype \n",
      "---  ------     --------------  ----- \n",
      " 0   name       41355 non-null  object\n",
      " 1   singer     41355 non-null  object\n",
      " 2   singer_id  41355 non-null  object\n",
      " 3   duration   41355 non-null  object\n",
      " 4   link       41355 non-null  object\n",
      " 5   language   41355 non-null  object\n",
      "dtypes: object(6)\n",
      "memory usage: 1.9+ MB\n"
     ]
    }
   ],
   "source": [
    "df.info()"
   ]
  },
  {
   "cell_type": "code",
   "execution_count": 11,
   "metadata": {},
   "outputs": [
    {
     "data": {
      "text/html": [
       "<div>\n",
       "<style scoped>\n",
       "    .dataframe tbody tr th:only-of-type {\n",
       "        vertical-align: middle;\n",
       "    }\n",
       "\n",
       "    .dataframe tbody tr th {\n",
       "        vertical-align: top;\n",
       "    }\n",
       "\n",
       "    .dataframe thead th {\n",
       "        text-align: right;\n",
       "    }\n",
       "</style>\n",
       "<table border=\"1\" class=\"dataframe\">\n",
       "  <thead>\n",
       "    <tr style=\"text-align: right;\">\n",
       "      <th></th>\n",
       "      <th>name</th>\n",
       "      <th>singer</th>\n",
       "      <th>singer_id</th>\n",
       "      <th>duration</th>\n",
       "      <th>link</th>\n",
       "      <th>language</th>\n",
       "    </tr>\n",
       "  </thead>\n",
       "  <tbody>\n",
       "    <tr>\n",
       "      <th>count</th>\n",
       "      <td>41355</td>\n",
       "      <td>41355</td>\n",
       "      <td>41355</td>\n",
       "      <td>41355</td>\n",
       "      <td>41355</td>\n",
       "      <td>41355</td>\n",
       "    </tr>\n",
       "    <tr>\n",
       "      <th>unique</th>\n",
       "      <td>31534</td>\n",
       "      <td>6196</td>\n",
       "      <td>6580</td>\n",
       "      <td>1309</td>\n",
       "      <td>36361</td>\n",
       "      <td>16</td>\n",
       "    </tr>\n",
       "    <tr>\n",
       "      <th>top</th>\n",
       "      <td>O Mere Dil Ke Chain</td>\n",
       "      <td>Lata Mangeshkar</td>\n",
       "      <td>/artist/lata-mangeshkar</td>\n",
       "      <td>03:02</td>\n",
       "      <td>/kya-khoob-lagti-ho</td>\n",
       "      <td>Telugu</td>\n",
       "    </tr>\n",
       "    <tr>\n",
       "      <th>freq</th>\n",
       "      <td>26</td>\n",
       "      <td>1410</td>\n",
       "      <td>1410</td>\n",
       "      <td>447</td>\n",
       "      <td>2</td>\n",
       "      <td>4996</td>\n",
       "    </tr>\n",
       "  </tbody>\n",
       "</table>\n",
       "</div>"
      ],
      "text/plain": [
       "                       name           singer                singer_id  \\\n",
       "count                 41355            41355                    41355   \n",
       "unique                31534             6196                     6580   \n",
       "top     O Mere Dil Ke Chain  Lata Mangeshkar  /artist/lata-mangeshkar   \n",
       "freq                     26             1410                     1410   \n",
       "\n",
       "       duration                 link language  \n",
       "count     41355                41355    41355  \n",
       "unique     1309                36361       16  \n",
       "top       03:02  /kya-khoob-lagti-ho   Telugu  \n",
       "freq        447                    2     4996  "
      ]
     },
     "execution_count": 11,
     "metadata": {},
     "output_type": "execute_result"
    }
   ],
   "source": [
    "df.describe()"
   ]
  },
  {
   "cell_type": "markdown",
   "metadata": {},
   "source": [
    "### checking null values\n"
   ]
  },
  {
   "cell_type": "code",
   "execution_count": 12,
   "metadata": {},
   "outputs": [
    {
     "data": {
      "text/plain": [
       "name         0\n",
       "singer       0\n",
       "singer_id    0\n",
       "duration     0\n",
       "link         0\n",
       "language     0\n",
       "dtype: int64"
      ]
     },
     "execution_count": 12,
     "metadata": {},
     "output_type": "execute_result"
    }
   ],
   "source": [
    "df.isnull().sum()"
   ]
  },
  {
   "cell_type": "code",
   "execution_count": 13,
   "metadata": {},
   "outputs": [
    {
     "data": {
      "text/plain": [
       "<AxesSubplot:>"
      ]
     },
     "execution_count": 13,
     "metadata": {},
     "output_type": "execute_result"
    },
    {
     "data": {
      "image/png": "[encoded data removed]",
      "text/plain": [
       "<Figure size 432x288 with 2 Axes>"
      ]
     },
     "metadata": {
      "needs_background": "light"
     },
     "output_type": "display_data"
    }
   ],
   "source": [
    "sns.heatmap(df.isnull())"
   ]
  },
  {
   "cell_type": "markdown",
   "metadata": {},
   "source": [
    "DATA PREPROCESSING¶\n",
    "\n",
    "-WORKING WITH DURATION\n",
    "v\n"
   ]
  },
  {
   "cell_type": "code",
   "execution_count": 14,
   "metadata": {},
   "outputs": [],
   "source": [
    "#converting data from min to sec\n",
    "duration_list=[]\n",
    "for duration in df['duration']:\n",
    "    \n",
    "      m=int(duration.split(':')[0])\n",
    "      s=int(duration.split(':')[1])\n",
    "      sec=(m*60)+s\n",
    "      duration_list.append(sec)\n",
    "      "
   ]
  },
  {
   "cell_type": "code",
   "execution_count": 15,
   "metadata": {},
   "outputs": [
    {
     "data": {
      "text/html": [
       "<div>\n",
       "<style scoped>\n",
       "    .dataframe tbody tr th:only-of-type {\n",
       "        vertical-align: middle;\n",
       "    }\n",
       "\n",
       "    .dataframe tbody tr th {\n",
       "        vertical-align: top;\n",
       "    }\n",
       "\n",
       "    .dataframe thead th {\n",
       "        text-align: right;\n",
       "    }\n",
       "</style>\n",
       "<table border=\"1\" class=\"dataframe\">\n",
       "  <thead>\n",
       "    <tr style=\"text-align: right;\">\n",
       "      <th></th>\n",
       "      <th>name</th>\n",
       "      <th>singer</th>\n",
       "      <th>singer_id</th>\n",
       "      <th>duration</th>\n",
       "      <th>link</th>\n",
       "      <th>language</th>\n",
       "    </tr>\n",
       "  </thead>\n",
       "  <tbody>\n",
       "    <tr>\n",
       "      <th>0</th>\n",
       "      <td>Dil - E - Nadan Tujhe</td>\n",
       "      <td>Chitra Singh|Jagjit Singh</td>\n",
       "      <td>/artist/chitra-singh|/artist/jagjeet-singh-1</td>\n",
       "      <td>300</td>\n",
       "      <td>/dil-e-nadan-tujhe-3</td>\n",
       "      <td>Urdu</td>\n",
       "    </tr>\n",
       "    <tr>\n",
       "      <th>1</th>\n",
       "      <td>Agar Hum Kahen Aur Woh Muskara De</td>\n",
       "      <td>Chitra Singh|Jagjit Singh</td>\n",
       "      <td>/artist/chitra-singh|/artist/jagjeet-singh-1</td>\n",
       "      <td>386</td>\n",
       "      <td>/agar-hum-kahen-aur-woh-muskura-den</td>\n",
       "      <td>Urdu</td>\n",
       "    </tr>\n",
       "    <tr>\n",
       "      <th>2</th>\n",
       "      <td>Unke Dekhe Se</td>\n",
       "      <td>Jagjit Singh</td>\n",
       "      <td>/artist/jagjeet-singh-1</td>\n",
       "      <td>221</td>\n",
       "      <td>/unke-dekhe-se</td>\n",
       "      <td>Urdu</td>\n",
       "    </tr>\n",
       "    <tr>\n",
       "      <th>3</th>\n",
       "      <td>Yeh Na Thi Hamari Qismat - Chitra Singh</td>\n",
       "      <td>Chitra Singh</td>\n",
       "      <td>/artist/chitra-singh</td>\n",
       "      <td>266</td>\n",
       "      <td>/yeh-na-thi-hamari-qismat-2</td>\n",
       "      <td>Urdu</td>\n",
       "    </tr>\n",
       "    <tr>\n",
       "      <th>4</th>\n",
       "      <td>Hazaron Khwahishen Aisi</td>\n",
       "      <td>Jagjit Singh</td>\n",
       "      <td>/artist/jagjeet-singh-1</td>\n",
       "      <td>339</td>\n",
       "      <td>/hazaron-khwahishen-aisi-1</td>\n",
       "      <td>Urdu</td>\n",
       "    </tr>\n",
       "  </tbody>\n",
       "</table>\n",
       "</div>"
      ],
      "text/plain": [
       "                                      name                     singer  \\\n",
       "0                    Dil - E - Nadan Tujhe  Chitra Singh|Jagjit Singh   \n",
       "1        Agar Hum Kahen Aur Woh Muskara De  Chitra Singh|Jagjit Singh   \n",
       "2                            Unke Dekhe Se               Jagjit Singh   \n",
       "3  Yeh Na Thi Hamari Qismat - Chitra Singh               Chitra Singh   \n",
       "4                  Hazaron Khwahishen Aisi               Jagjit Singh   \n",
       "\n",
       "                                      singer_id  duration  \\\n",
       "0  /artist/chitra-singh|/artist/jagjeet-singh-1       300   \n",
       "1  /artist/chitra-singh|/artist/jagjeet-singh-1       386   \n",
       "2                       /artist/jagjeet-singh-1       221   \n",
       "3                          /artist/chitra-singh       266   \n",
       "4                       /artist/jagjeet-singh-1       339   \n",
       "\n",
       "                                  link language  \n",
       "0                 /dil-e-nadan-tujhe-3     Urdu  \n",
       "1  /agar-hum-kahen-aur-woh-muskura-den     Urdu  \n",
       "2                       /unke-dekhe-se     Urdu  \n",
       "3          /yeh-na-thi-hamari-qismat-2     Urdu  \n",
       "4           /hazaron-khwahishen-aisi-1     Urdu  "
      ]
     },
     "execution_count": 15,
     "metadata": {},
     "output_type": "execute_result"
    }
   ],
   "source": [
    "len(duration_list)        \n",
    "df['duration']=duration_list   \n",
    "df.head()"
   ]
  },
  {
   "cell_type": "markdown",
   "metadata": {},
   "source": [
    "##  Data Analysis"
   ]
  },
  {
   "cell_type": "code",
   "execution_count": 16,
   "metadata": {},
   "outputs": [
    {
     "name": "stdout",
     "output_type": "stream",
     "text": [
      "295\n"
     ]
    }
   ],
   "source": [
    "#1 Average duration of song throughout the dataset\n",
    "\n",
    "avg_song_duration=df['duration'].sum()/len(df['duration'])\n",
    "print(int(avg_song_duration))\n",
    "\n",
    "#avg duration of song is 295 sec"
   ]
  },
  {
   "cell_type": "code",
   "execution_count": 17,
   "metadata": {},
   "outputs": [
    {
     "data": {
      "text/html": [
       "<div>\n",
       "<style scoped>\n",
       "    .dataframe tbody tr th:only-of-type {\n",
       "        vertical-align: middle;\n",
       "    }\n",
       "\n",
       "    .dataframe tbody tr th {\n",
       "        vertical-align: top;\n",
       "    }\n",
       "\n",
       "    .dataframe thead th {\n",
       "        text-align: right;\n",
       "    }\n",
       "</style>\n",
       "<table border=\"1\" class=\"dataframe\">\n",
       "  <thead>\n",
       "    <tr style=\"text-align: right;\">\n",
       "      <th></th>\n",
       "      <th>name</th>\n",
       "      <th>singer</th>\n",
       "      <th>singer_id</th>\n",
       "      <th>duration</th>\n",
       "      <th>link</th>\n",
       "      <th>language</th>\n",
       "    </tr>\n",
       "  </thead>\n",
       "  <tbody>\n",
       "    <tr>\n",
       "      <th>818</th>\n",
       "      <td>Yeh Paisa Kya Karega</td>\n",
       "      <td>Aziz Miyan Qawwal</td>\n",
       "      <td>/artist/aziz-miyan-qawwal</td>\n",
       "      <td>3595</td>\n",
       "      <td>/yeh-paisa-kya-karega-2</td>\n",
       "      <td>Urdu</td>\n",
       "    </tr>\n",
       "  </tbody>\n",
       "</table>\n",
       "</div>"
      ],
      "text/plain": [
       "                     name             singer                  singer_id  \\\n",
       "818  Yeh Paisa Kya Karega  Aziz Miyan Qawwal  /artist/aziz-miyan-qawwal   \n",
       "\n",
       "     duration                     link language  \n",
       "818      3595  /yeh-paisa-kya-karega-2     Urdu  "
      ]
     },
     "execution_count": 17,
     "metadata": {},
     "output_type": "execute_result"
    }
   ],
   "source": [
    "# song with max duration?\n",
    "max=df['duration'].max()\n",
    "df[df['duration']==max]"
   ]
  },
  {
   "cell_type": "code",
   "execution_count": 18,
   "metadata": {},
   "outputs": [
    {
     "data": {
      "text/html": [
       "<div>\n",
       "<style scoped>\n",
       "    .dataframe tbody tr th:only-of-type {\n",
       "        vertical-align: middle;\n",
       "    }\n",
       "\n",
       "    .dataframe tbody tr th {\n",
       "        vertical-align: top;\n",
       "    }\n",
       "\n",
       "    .dataframe thead th {\n",
       "        text-align: right;\n",
       "    }\n",
       "</style>\n",
       "<table border=\"1\" class=\"dataframe\">\n",
       "  <thead>\n",
       "    <tr style=\"text-align: right;\">\n",
       "      <th></th>\n",
       "      <th>name</th>\n",
       "      <th>singer</th>\n",
       "      <th>singer_id</th>\n",
       "      <th>duration</th>\n",
       "      <th>link</th>\n",
       "      <th>language</th>\n",
       "    </tr>\n",
       "  </thead>\n",
       "  <tbody>\n",
       "    <tr>\n",
       "      <th>22952</th>\n",
       "      <td>Dialogues (Ghulami): Aahi Jaana Mere Liye</td>\n",
       "      <td>Ost</td>\n",
       "      <td>/artist/ost</td>\n",
       "      <td>17</td>\n",
       "      <td>/dialogue-aahi-jana-mere-liye</td>\n",
       "      <td>Hindi</td>\n",
       "    </tr>\n",
       "  </tbody>\n",
       "</table>\n",
       "</div>"
      ],
      "text/plain": [
       "                                            name singer    singer_id  \\\n",
       "22952  Dialogues (Ghulami): Aahi Jaana Mere Liye    Ost  /artist/ost   \n",
       "\n",
       "       duration                           link language  \n",
       "22952        17  /dialogue-aahi-jana-mere-liye    Hindi  "
      ]
     },
     "execution_count": 18,
     "metadata": {},
     "output_type": "execute_result"
    }
   ],
   "source": [
    "# song with min duration?\n",
    "min=df['duration'].min()\n",
    "df[df['duration']==min].head(1)"
   ]
  },
  {
   "cell_type": "code",
   "execution_count": 19,
   "metadata": {},
   "outputs": [
    {
     "name": "stdout",
     "output_type": "stream",
     "text": [
      "16\n"
     ]
    }
   ],
   "source": [
    "#2 How many languages of songs are there in the data set\n",
    "\n",
    "no_of_languages=df['language'].nunique()\n",
    "print(no_of_languages)\n",
    "\n",
    "#1-There are 16 different languages of songs"
   ]
  },
  {
   "cell_type": "code",
   "execution_count": null,
   "metadata": {},
   "outputs": [],
   "source": [
    "plt.figure(figsize=(16,5))\n",
    "sns.countplot(x='language',data=df)\n",
    "plt.title(\"Songs_Count vs Languages\")"
   ]
  },
  {
   "cell_type": "code",
   "execution_count": 20,
   "metadata": {},
   "outputs": [
    {
     "name": "stdout",
     "output_type": "stream",
     "text": [
      "['Urdu' 'Gujarati' 'Tamil' 'Kannada' 'Rajasthani' 'Haryanvi' 'Punjabi'\n",
      " 'Hindi' 'Old' 'Malayalam' 'Marathi' 'Telugu' 'Odia' 'Bhojpuri' 'Assamese'\n",
      " 'Bengali']\n"
     ]
    }
   ],
   "source": [
    "#3 what are all the languages in the data set\n",
    "\n",
    "languages=df['language'].unique()\n",
    "print(languages)\n",
    "\n",
    "#lang are: 'Urdu' 'Gujarati' 'Tamil' 'Kannada' 'Rajasthani' 'Haryanvi' 'Punjabi'\n",
    "# 'Hindi' 'Old' 'Malayalam' 'Marathi' 'Telugu' 'Odia' 'Bhojpuri' 'Assamese'\n",
    "# 'Bengali"
   ]
  },
  {
   "cell_type": "code",
   "execution_count": 23,
   "metadata": {},
   "outputs": [
    {
     "name": "stdout",
     "output_type": "stream",
     "text": [
      "4699\n"
     ]
    }
   ],
   "source": [
    "#4 How many Marathi songs are their?\n",
    "\n",
    "count_language=len(df[df['language']=='Marathi'])\n",
    "print(count_language)\n",
    "\n",
    "#there are 4699 Marathi songs"
   ]
  },
  {
   "cell_type": "code",
   "execution_count": 22,
   "metadata": {},
   "outputs": [
    {
     "name": "stdout",
     "output_type": "stream",
     "text": [
      "Urdu 3116\n",
      "Gujarati 2115\n",
      "Tamil 4677\n",
      "Kannada 3559\n",
      "Rajasthani 541\n",
      "Haryanvi 228\n",
      "Punjabi 3818\n",
      "Hindi 4993\n",
      "Old 4993\n",
      "Malayalam 479\n",
      "Marathi 4699\n",
      "Telugu 4996\n",
      "Odia 940\n",
      "Bhojpuri 519\n",
      "Assamese 724\n",
      "Bengali 958\n"
     ]
    }
   ],
   "source": [
    "#5 Number of songs in each language\n",
    "\n",
    "for lang in df['language'].unique():\n",
    "    print(lang,len(df[df['language']==lang]))"
   ]
  },
  {
   "cell_type": "code",
   "execution_count": 24,
   "metadata": {},
   "outputs": [
    {
     "data": {
      "text/plain": [
       "Text(0.5, 1.0, 'Songs_Count vs Languages')"
      ]
     },
     "execution_count": 24,
     "metadata": {},
     "output_type": "execute_result"
    },
    {
     "data": {
      "image/png": "[encoded data removed]",
      "text/plain": [
       "<Figure size 1152x360 with 1 Axes>"
      ]
     },
     "metadata": {
      "needs_background": "light"
     },
     "output_type": "display_data"
    }
   ],
   "source": [
    "plt.figure(figsize=(16,5))\n",
    "sns.countplot(x='language',data=df)  \n",
    "plt.title(\"Songs_Count vs Languages\")"
   ]
  },
  {
   "cell_type": "code",
   "execution_count": 25,
   "metadata": {},
   "outputs": [
    {
     "data": {
      "text/plain": [
       "language\n",
       "Assamese      228.325967\n",
       "Bengali       255.179541\n",
       "Bhojpuri      357.138728\n",
       "Gujarati      271.632151\n",
       "Haryanvi      320.004386\n",
       "Hindi         307.873022\n",
       "Kannada       250.592863\n",
       "Malayalam     242.609603\n",
       "Marathi       281.163865\n",
       "Odia          257.629787\n",
       "Old           307.873022\n",
       "Punjabi       324.020691\n",
       "Rajasthani    291.040665\n",
       "Tamil         270.590336\n",
       "Telugu        279.234788\n",
       "Urdu          407.272465\n",
       "Name: duration, dtype: float64"
      ]
     },
     "execution_count": 25,
     "metadata": {},
     "output_type": "execute_result"
    }
   ],
   "source": [
    "#6 Average duration of song in each language\n",
    "\n",
    "average_duration_of_songs=df.groupby(df['language'])['duration'].mean()\n",
    "average_duration_of_songs\n",
    "#max duration of songs are from urdu language"
   ]
  },
  {
   "cell_type": "code",
   "execution_count": 26,
   "metadata": {},
   "outputs": [
    {
     "data": {
      "text/plain": [
       "Text(0.5, 1.0, 'Song_Duration vs Languages')"
      ]
     },
     "execution_count": 26,
     "metadata": {},
     "output_type": "execute_result"
    },
    {
     "data": {
      "image/png": "[encoded data removed]",
      "text/plain": [
       "<Figure size 1152x360 with 1 Axes>"
      ]
     },
     "metadata": {
      "needs_background": "light"
     },
     "output_type": "display_data"
    }
   ],
   "source": [
    "plt.figure(figsize=(16,5))\n",
    "sns.lineplot(x='language',y='duration',data=df)\n",
    "plt.title(\"Song_Duration vs Languages\")\n",
    "#max duration of songs are from urdu language"
   ]
  },
  {
   "cell_type": "code",
   "execution_count": 27,
   "metadata": {},
   "outputs": [
    {
     "name": "stdout",
     "output_type": "stream",
     "text": [
      "Total Singers 3940\n"
     ]
    }
   ],
   "source": [
    "#7 how many singers are there in the dataset\n",
    "\n",
    "all_singers=[]\n",
    "for singers in df['singer']:\n",
    "    all_singers+=singers.split('|')\n",
    "print('Total Singers',len(set(all_singers)))\n",
    "\n",
    "#total unique singers are 3940"
   ]
  },
  {
   "cell_type": "code",
   "execution_count": 29,
   "metadata": {},
   "outputs": [],
   "source": [
    "#8 Singers who sang the most songs?\n",
    "\n",
    "data = []\n",
    "\n",
    "unique_singers = list(set(all_singers))\n",
    "\n",
    "for i in (unique_singers):\n",
    "\n",
    "  c = 0\n",
    "  for singers_ in df['singer']:\n",
    "    if (i in singers_):\n",
    "      c += 1\n",
    "\n",
    "  data.append([i,c])"
   ]
  },
  {
   "cell_type": "code",
   "execution_count": 30,
   "metadata": {},
   "outputs": [
    {
     "data": {
      "text/html": [
       "<div>\n",
       "<style scoped>\n",
       "    .dataframe tbody tr th:only-of-type {\n",
       "        vertical-align: middle;\n",
       "    }\n",
       "\n",
       "    .dataframe tbody tr th {\n",
       "        vertical-align: top;\n",
       "    }\n",
       "\n",
       "    .dataframe thead th {\n",
       "        text-align: right;\n",
       "    }\n",
       "</style>\n",
       "<table border=\"1\" class=\"dataframe\">\n",
       "  <thead>\n",
       "    <tr style=\"text-align: right;\">\n",
       "      <th></th>\n",
       "      <th>singer</th>\n",
       "      <th>songs</th>\n",
       "    </tr>\n",
       "  </thead>\n",
       "  <tbody>\n",
       "    <tr>\n",
       "      <th>638</th>\n",
       "      <td>S. P. Balasubrahmanyam</td>\n",
       "      <td>3659</td>\n",
       "    </tr>\n",
       "    <tr>\n",
       "      <th>2869</th>\n",
       "      <td>Kumar</td>\n",
       "      <td>3270</td>\n",
       "    </tr>\n",
       "    <tr>\n",
       "      <th>2299</th>\n",
       "      <td>Susheel</td>\n",
       "      <td>3216</td>\n",
       "    </tr>\n",
       "    <tr>\n",
       "      <th>304</th>\n",
       "      <td>Susheela</td>\n",
       "      <td>3215</td>\n",
       "    </tr>\n",
       "    <tr>\n",
       "      <th>2370</th>\n",
       "      <td>P. Susheela</td>\n",
       "      <td>3213</td>\n",
       "    </tr>\n",
       "  </tbody>\n",
       "</table>\n",
       "</div>"
      ],
      "text/plain": [
       "                      singer  songs\n",
       "638   S. P. Balasubrahmanyam   3659\n",
       "2869                   Kumar   3270\n",
       "2299                 Susheel   3216\n",
       "304                 Susheela   3215\n",
       "2370             P. Susheela   3213"
      ]
     },
     "execution_count": 30,
     "metadata": {},
     "output_type": "execute_result"
    }
   ],
   "source": [
    "songs = pd.DataFrame(data, columns = ['singer','songs'])\n",
    "\n",
    "songs.sort_values(by = 'songs', ascending = False).head(5)\n",
    "\n",
    "# S. P. Balasubrahmanyam sang most no of songs i.e 3659"
   ]
  },
  {
   "cell_type": "code",
   "execution_count": 31,
   "metadata": {},
   "outputs": [
    {
     "data": {
      "text/plain": [
       "Text(0.5, 1.0, 'Top 5 singers who sang most number of songs')"
      ]
     },
     "execution_count": 31,
     "metadata": {},
     "output_type": "execute_result"
    },
    {
     "data": {
      "image/png": "[encoded data removed]",
      "text/plain": [
       "<Figure size 1152x360 with 1 Axes>"
      ]
     },
     "metadata": {
      "needs_background": "light"
     },
     "output_type": "display_data"
    }
   ],
   "source": [
    "top_singers=pd.DataFrame(songs[['singer','songs']]).sort_values(by = 'songs', ascending = False).head(5)\n",
    "top_singers\n",
    "plt.figure(figsize=(16,5))\n",
    "sns.barplot(data = top_singers, y = 'songs', x = 'singer')\n",
    "plt.title('Top 5 singers who sang most number of songs')\n",
    "\n",
    "#S. P. Balasubrahmanyam sang most no of songs i.e 3659"
   ]
  },
  {
   "cell_type": "code",
   "execution_count": 32,
   "metadata": {},
   "outputs": [
    {
     "name": "stdout",
     "output_type": "stream",
     "text": [
      "Urdu 3116 385\n",
      "Gujarati 2115 303\n",
      "Tamil 4677 510\n",
      "Kannada 3559 379\n",
      "Rajasthani 541 218\n",
      "Haryanvi 228 76\n",
      "Punjabi 3818 636\n",
      "Hindi 4993 515\n",
      "Old 4993 515\n",
      "Malayalam 479 72\n",
      "Marathi 4699 569\n",
      "Telugu 4996 369\n",
      "Odia 940 243\n",
      "Bhojpuri 519 109\n",
      "Assamese 724 228\n",
      "Bengali 958 192\n"
     ]
    }
   ],
   "source": [
    "#9 Singer who played most number of songs in each language?\n",
    "data2=[]\n",
    "for lang in df['language'].unique():\n",
    "\n",
    "  df_ = df[df['language'] == lang]\n",
    "  \n",
    "  all_singer = []\n",
    "  for singers in df_['singer']:\n",
    "    all_singer += singers.split('|')\n",
    "\n",
    "  print(lang, len(df_),len(set(all_singer)))\n",
    "  data2.append([lang,len(df_),all_singer])"
   ]
  },
  {
   "cell_type": "code",
   "execution_count": 33,
   "metadata": {},
   "outputs": [
    {
     "data": {
      "text/html": [
       "<div>\n",
       "<style scoped>\n",
       "    .dataframe tbody tr th:only-of-type {\n",
       "        vertical-align: middle;\n",
       "    }\n",
       "\n",
       "    .dataframe tbody tr th {\n",
       "        vertical-align: top;\n",
       "    }\n",
       "\n",
       "    .dataframe thead th {\n",
       "        text-align: right;\n",
       "    }\n",
       "</style>\n",
       "<table border=\"1\" class=\"dataframe\">\n",
       "  <thead>\n",
       "    <tr style=\"text-align: right;\">\n",
       "      <th></th>\n",
       "      <th>language</th>\n",
       "      <th>no_of_songs</th>\n",
       "      <th>singer</th>\n",
       "    </tr>\n",
       "  </thead>\n",
       "  <tbody>\n",
       "    <tr>\n",
       "      <th>11</th>\n",
       "      <td>Telugu</td>\n",
       "      <td>4996</td>\n",
       "      <td>[S. P. Balasubrahmanyam, S. Janaki, S. P. Bala...</td>\n",
       "    </tr>\n",
       "    <tr>\n",
       "      <th>7</th>\n",
       "      <td>Hindi</td>\n",
       "      <td>4993</td>\n",
       "      <td>[Kishore Kumar, Lata Mangeshkar, Kishore Kumar...</td>\n",
       "    </tr>\n",
       "    <tr>\n",
       "      <th>8</th>\n",
       "      <td>Old</td>\n",
       "      <td>4993</td>\n",
       "      <td>[Kishore Kumar, Lata Mangeshkar, Kishore Kumar...</td>\n",
       "    </tr>\n",
       "    <tr>\n",
       "      <th>10</th>\n",
       "      <td>Marathi</td>\n",
       "      <td>4699</td>\n",
       "      <td>[Suresh Wadkar, Sudesh Bhonsle, Shailendra Sin...</td>\n",
       "    </tr>\n",
       "    <tr>\n",
       "      <th>2</th>\n",
       "      <td>Tamil</td>\n",
       "      <td>4677</td>\n",
       "      <td>[K J Yesudas, S. Janaki, S. P. Balasubrahmanya...</td>\n",
       "    </tr>\n",
       "  </tbody>\n",
       "</table>\n",
       "</div>"
      ],
      "text/plain": [
       "   language  no_of_songs                                             singer\n",
       "11   Telugu         4996  [S. P. Balasubrahmanyam, S. Janaki, S. P. Bala...\n",
       "7     Hindi         4993  [Kishore Kumar, Lata Mangeshkar, Kishore Kumar...\n",
       "8       Old         4993  [Kishore Kumar, Lata Mangeshkar, Kishore Kumar...\n",
       "10  Marathi         4699  [Suresh Wadkar, Sudesh Bhonsle, Shailendra Sin...\n",
       "2     Tamil         4677  [K J Yesudas, S. Janaki, S. P. Balasubrahmanya..."
      ]
     },
     "execution_count": 33,
     "metadata": {},
     "output_type": "execute_result"
    }
   ],
   "source": [
    "top_singer_by_lang = pd.DataFrame(data2, columns = ['language','no_of_songs','singer']).sort_values(by = 'no_of_songs', ascending = False).head(5)\n",
    "top_singer_by_lang"
   ]
  },
  {
   "cell_type": "code",
   "execution_count": 34,
   "metadata": {},
   "outputs": [
    {
     "data": {
      "text/plain": [
       "O Mere Dil Ke Chain               26\n",
       "Hamen Tumse Pyar Kitna            22\n",
       "Padhyams                          20\n",
       "Chura Liya Hai Tumne Jo Dil Ko    18\n",
       "Yeh Sham Mastani                  18\n",
       "Name: name, dtype: int64"
      ]
     },
     "execution_count": 34,
     "metadata": {},
     "output_type": "execute_result"
    }
   ],
   "source": [
    "# top 5 songs\n",
    "top_songs=df['name'].value_counts().nlargest(n=5)\n",
    "top_songs\n",
    "\n",
    "#top song is O Mere Dil Ke Chain "
   ]
  },
  {
   "cell_type": "code",
   "execution_count": 35,
   "metadata": {},
   "outputs": [
    {
     "data": {
      "text/plain": [
       "Text(0.5, 1.0, 'top 5 songs')"
      ]
     },
     "execution_count": 35,
     "metadata": {},
     "output_type": "execute_result"
    },
    {
     "data": {
      "image/png": "[encoded data removed]",
      "text/plain": [
       "<Figure size 432x288 with 1 Axes>"
      ]
     },
     "metadata": {},
     "output_type": "display_data"
    }
   ],
   "source": [
    "plt.pie(top_songs,labels=top_songs.index,autopct='%.2f%%')\n",
    "plt.title('top 5 songs')"
   ]
  },
  {
   "cell_type": "code",
   "execution_count": null,
   "metadata": {},
   "outputs": [],
   "source": []
  },
  {
   "cell_type": "code",
   "execution_count": null,
   "metadata": {},
   "outputs": [],
   "source": []
  },
  {
   "cell_type": "code",
   "execution_count": null,
   "metadata": {},
   "outputs": [],
   "source": []
  },
  {
   "cell_type": "code",
   "execution_count": null,
   "metadata": {},
   "outputs": [],
   "source": []
  },
  {
   "cell_type": "code",
   "execution_count": null,
   "metadata": {},
   "outputs": [],
   "source": []
  },
  {
   "cell_type": "code",
   "execution_count": null,
   "metadata": {},
   "outputs": [],
   "source": []
  }
 ],
 "metadata": {
  "kernelspec": {
   "display_name": "Python 3.9.8 ('venv': venv)",
   "language": "python",
   "name": "python3"
  },
  "language_info": {
   "codemirror_mode": {
    "name": "ipython",
    "version": 3
   },
   "file_extension": ".py",
   "mimetype": "text/x-python",
   "name": "python",
   "nbconvert_exporter": "python",
   "pygments_lexer": "ipython3",
   "version": "3.9.8"
  },
  "orig_nbformat": 4,
  "vscode": {
   "interpreter": {
    "hash": "d1c1ae16b98c3def91895f421ae4aab7834c547a978e507398c5e5de1e51cd1c"
   }
  }
 },
 "nbformat": 4,
 "nbformat_minor": 2
}
